{
 "cells": [
  {
   "cell_type": "code",
   "execution_count": 1,
   "id": "de5de51b-2b41-4f14-ab0f-8a216304685f",
   "metadata": {},
   "outputs": [],
   "source": [
    "import pandas as pd\n",
    "import numpy as np\n",
    "import matplotlib.pyplot as plt\n",
    "import seaborn as sns"
   ]
  },
  {
   "cell_type": "code",
   "execution_count": 2,
   "id": "8653cc80-fa97-4bb8-a88d-2f92b54c39f5",
   "metadata": {},
   "outputs": [],
   "source": [
    "df = pd.read_csv('Titanic-Dataset.csv') # reading data"
   ]
  },
  {
   "cell_type": "code",
   "execution_count": 3,
   "id": "cd5acad9-78bd-4e72-83d9-367e7c93704e",
   "metadata": {},
   "outputs": [
    {
     "data": {
      "text/html": [
       "<div>\n",
       "<style scoped>\n",
       "    .dataframe tbody tr th:only-of-type {\n",
       "        vertical-align: middle;\n",
       "    }\n",
       "\n",
       "    .dataframe tbody tr th {\n",
       "        vertical-align: top;\n",
       "    }\n",
       "\n",
       "    .dataframe thead th {\n",
       "        text-align: right;\n",
       "    }\n",
       "</style>\n",
       "<table border=\"1\" class=\"dataframe\">\n",
       "  <thead>\n",
       "    <tr style=\"text-align: right;\">\n",
       "      <th></th>\n",
       "      <th>PassengerId</th>\n",
       "      <th>Survived</th>\n",
       "      <th>Pclass</th>\n",
       "      <th>Name</th>\n",
       "      <th>Sex</th>\n",
       "      <th>Age</th>\n",
       "      <th>SibSp</th>\n",
       "      <th>Parch</th>\n",
       "      <th>Ticket</th>\n",
       "      <th>Fare</th>\n",
       "      <th>Cabin</th>\n",
       "      <th>Embarked</th>\n",
       "    </tr>\n",
       "  </thead>\n",
       "  <tbody>\n",
       "    <tr>\n",
       "      <th>0</th>\n",
       "      <td>1</td>\n",
       "      <td>0</td>\n",
       "      <td>3</td>\n",
       "      <td>Braund, Mr. Owen Harris</td>\n",
       "      <td>male</td>\n",
       "      <td>22.0</td>\n",
       "      <td>1</td>\n",
       "      <td>0</td>\n",
       "      <td>A/5 21171</td>\n",
       "      <td>7.2500</td>\n",
       "      <td>NaN</td>\n",
       "      <td>S</td>\n",
       "    </tr>\n",
       "    <tr>\n",
       "      <th>1</th>\n",
       "      <td>2</td>\n",
       "      <td>1</td>\n",
       "      <td>1</td>\n",
       "      <td>Cumings, Mrs. John Bradley (Florence Briggs Th...</td>\n",
       "      <td>female</td>\n",
       "      <td>38.0</td>\n",
       "      <td>1</td>\n",
       "      <td>0</td>\n",
       "      <td>PC 17599</td>\n",
       "      <td>71.2833</td>\n",
       "      <td>C85</td>\n",
       "      <td>C</td>\n",
       "    </tr>\n",
       "    <tr>\n",
       "      <th>2</th>\n",
       "      <td>3</td>\n",
       "      <td>1</td>\n",
       "      <td>3</td>\n",
       "      <td>Heikkinen, Miss. Laina</td>\n",
       "      <td>female</td>\n",
       "      <td>26.0</td>\n",
       "      <td>0</td>\n",
       "      <td>0</td>\n",
       "      <td>STON/O2. 3101282</td>\n",
       "      <td>7.9250</td>\n",
       "      <td>NaN</td>\n",
       "      <td>S</td>\n",
       "    </tr>\n",
       "    <tr>\n",
       "      <th>3</th>\n",
       "      <td>4</td>\n",
       "      <td>1</td>\n",
       "      <td>1</td>\n",
       "      <td>Futrelle, Mrs. Jacques Heath (Lily May Peel)</td>\n",
       "      <td>female</td>\n",
       "      <td>35.0</td>\n",
       "      <td>1</td>\n",
       "      <td>0</td>\n",
       "      <td>113803</td>\n",
       "      <td>53.1000</td>\n",
       "      <td>C123</td>\n",
       "      <td>S</td>\n",
       "    </tr>\n",
       "    <tr>\n",
       "      <th>4</th>\n",
       "      <td>5</td>\n",
       "      <td>0</td>\n",
       "      <td>3</td>\n",
       "      <td>Allen, Mr. William Henry</td>\n",
       "      <td>male</td>\n",
       "      <td>35.0</td>\n",
       "      <td>0</td>\n",
       "      <td>0</td>\n",
       "      <td>373450</td>\n",
       "      <td>8.0500</td>\n",
       "      <td>NaN</td>\n",
       "      <td>S</td>\n",
       "    </tr>\n",
       "  </tbody>\n",
       "</table>\n",
       "</div>"
      ],
      "text/plain": [
       "   PassengerId  Survived  Pclass  \\\n",
       "0            1         0       3   \n",
       "1            2         1       1   \n",
       "2            3         1       3   \n",
       "3            4         1       1   \n",
       "4            5         0       3   \n",
       "\n",
       "                                                Name     Sex   Age  SibSp  \\\n",
       "0                            Braund, Mr. Owen Harris    male  22.0      1   \n",
       "1  Cumings, Mrs. John Bradley (Florence Briggs Th...  female  38.0      1   \n",
       "2                             Heikkinen, Miss. Laina  female  26.0      0   \n",
       "3       Futrelle, Mrs. Jacques Heath (Lily May Peel)  female  35.0      1   \n",
       "4                           Allen, Mr. William Henry    male  35.0      0   \n",
       "\n",
       "   Parch            Ticket     Fare Cabin Embarked  \n",
       "0      0         A/5 21171   7.2500   NaN        S  \n",
       "1      0          PC 17599  71.2833   C85        C  \n",
       "2      0  STON/O2. 3101282   7.9250   NaN        S  \n",
       "3      0            113803  53.1000  C123        S  \n",
       "4      0            373450   8.0500   NaN        S  "
      ]
     },
     "execution_count": 3,
     "metadata": {},
     "output_type": "execute_result"
    }
   ],
   "source": [
    "df.head()"
   ]
  },
  {
   "cell_type": "code",
   "execution_count": 4,
   "id": "126230e7-ab91-449b-939d-0c5394f9c738",
   "metadata": {},
   "outputs": [],
   "source": [
    "# create new column by merging 'SibSp' 'Parch' and name it 'Family Size'\n",
    "\n",
    "df['Family Size'] = df['SibSp'] + df['Parch'] + 1\n",
    "df.drop(columns=['SibSp', 'Parch'], inplace=True)"
   ]
  },
  {
   "cell_type": "code",
   "execution_count": 5,
   "id": "5d7b07aa-f85b-40b6-927f-8ec6fbecc8f0",
   "metadata": {},
   "outputs": [
    {
     "data": {
      "text/html": [
       "<div>\n",
       "<style scoped>\n",
       "    .dataframe tbody tr th:only-of-type {\n",
       "        vertical-align: middle;\n",
       "    }\n",
       "\n",
       "    .dataframe tbody tr th {\n",
       "        vertical-align: top;\n",
       "    }\n",
       "\n",
       "    .dataframe thead th {\n",
       "        text-align: right;\n",
       "    }\n",
       "</style>\n",
       "<table border=\"1\" class=\"dataframe\">\n",
       "  <thead>\n",
       "    <tr style=\"text-align: right;\">\n",
       "      <th></th>\n",
       "      <th>PassengerId</th>\n",
       "      <th>Survived</th>\n",
       "      <th>Pclass</th>\n",
       "      <th>Age</th>\n",
       "      <th>Fare</th>\n",
       "      <th>Family Size</th>\n",
       "    </tr>\n",
       "  </thead>\n",
       "  <tbody>\n",
       "    <tr>\n",
       "      <th>count</th>\n",
       "      <td>891.000000</td>\n",
       "      <td>891.000000</td>\n",
       "      <td>891.000000</td>\n",
       "      <td>714.000000</td>\n",
       "      <td>891.000000</td>\n",
       "      <td>891.000000</td>\n",
       "    </tr>\n",
       "    <tr>\n",
       "      <th>mean</th>\n",
       "      <td>446.000000</td>\n",
       "      <td>0.383838</td>\n",
       "      <td>2.308642</td>\n",
       "      <td>29.699118</td>\n",
       "      <td>32.204208</td>\n",
       "      <td>1.904602</td>\n",
       "    </tr>\n",
       "    <tr>\n",
       "      <th>std</th>\n",
       "      <td>257.353842</td>\n",
       "      <td>0.486592</td>\n",
       "      <td>0.836071</td>\n",
       "      <td>14.526497</td>\n",
       "      <td>49.693429</td>\n",
       "      <td>1.613459</td>\n",
       "    </tr>\n",
       "    <tr>\n",
       "      <th>min</th>\n",
       "      <td>1.000000</td>\n",
       "      <td>0.000000</td>\n",
       "      <td>1.000000</td>\n",
       "      <td>0.420000</td>\n",
       "      <td>0.000000</td>\n",
       "      <td>1.000000</td>\n",
       "    </tr>\n",
       "    <tr>\n",
       "      <th>25%</th>\n",
       "      <td>223.500000</td>\n",
       "      <td>0.000000</td>\n",
       "      <td>2.000000</td>\n",
       "      <td>20.125000</td>\n",
       "      <td>7.910400</td>\n",
       "      <td>1.000000</td>\n",
       "    </tr>\n",
       "    <tr>\n",
       "      <th>50%</th>\n",
       "      <td>446.000000</td>\n",
       "      <td>0.000000</td>\n",
       "      <td>3.000000</td>\n",
       "      <td>28.000000</td>\n",
       "      <td>14.454200</td>\n",
       "      <td>1.000000</td>\n",
       "    </tr>\n",
       "    <tr>\n",
       "      <th>75%</th>\n",
       "      <td>668.500000</td>\n",
       "      <td>1.000000</td>\n",
       "      <td>3.000000</td>\n",
       "      <td>38.000000</td>\n",
       "      <td>31.000000</td>\n",
       "      <td>2.000000</td>\n",
       "    </tr>\n",
       "    <tr>\n",
       "      <th>max</th>\n",
       "      <td>891.000000</td>\n",
       "      <td>1.000000</td>\n",
       "      <td>3.000000</td>\n",
       "      <td>80.000000</td>\n",
       "      <td>512.329200</td>\n",
       "      <td>11.000000</td>\n",
       "    </tr>\n",
       "  </tbody>\n",
       "</table>\n",
       "</div>"
      ],
      "text/plain": [
       "       PassengerId    Survived      Pclass         Age        Fare  \\\n",
       "count   891.000000  891.000000  891.000000  714.000000  891.000000   \n",
       "mean    446.000000    0.383838    2.308642   29.699118   32.204208   \n",
       "std     257.353842    0.486592    0.836071   14.526497   49.693429   \n",
       "min       1.000000    0.000000    1.000000    0.420000    0.000000   \n",
       "25%     223.500000    0.000000    2.000000   20.125000    7.910400   \n",
       "50%     446.000000    0.000000    3.000000   28.000000   14.454200   \n",
       "75%     668.500000    1.000000    3.000000   38.000000   31.000000   \n",
       "max     891.000000    1.000000    3.000000   80.000000  512.329200   \n",
       "\n",
       "       Family Size  \n",
       "count   891.000000  \n",
       "mean      1.904602  \n",
       "std       1.613459  \n",
       "min       1.000000  \n",
       "25%       1.000000  \n",
       "50%       1.000000  \n",
       "75%       2.000000  \n",
       "max      11.000000  "
      ]
     },
     "execution_count": 5,
     "metadata": {},
     "output_type": "execute_result"
    }
   ],
   "source": [
    "df.describe() # analysing dataframe"
   ]
  },
  {
   "cell_type": "code",
   "execution_count": 6,
   "id": "faaff7d5-19a0-4cb5-a0df-97b3425d8ef8",
   "metadata": {},
   "outputs": [
    {
     "data": {
      "text/plain": [
       "PassengerId      0\n",
       "Survived         0\n",
       "Pclass           0\n",
       "Name             0\n",
       "Sex              0\n",
       "Age            177\n",
       "Ticket           0\n",
       "Fare             0\n",
       "Cabin          687\n",
       "Embarked         2\n",
       "Family Size      0\n",
       "dtype: int64"
      ]
     },
     "execution_count": 6,
     "metadata": {},
     "output_type": "execute_result"
    }
   ],
   "source": [
    "df.isnull().sum() # finding null values from data frame"
   ]
  },
  {
   "cell_type": "code",
   "execution_count": 7,
   "id": "be28a501-c025-4870-91d6-bd0aeb151a6d",
   "metadata": {},
   "outputs": [
    {
     "data": {
      "text/plain": [
       "687"
      ]
     },
     "execution_count": 7,
     "metadata": {},
     "output_type": "execute_result"
    }
   ],
   "source": [
    "df['Cabin'].isnull().sum()"
   ]
  },
  {
   "cell_type": "code",
   "execution_count": 8,
   "id": "07c39df0-77e5-492c-b43d-9aa10dff3a08",
   "metadata": {},
   "outputs": [
    {
     "data": {
      "text/plain": [
       "177"
      ]
     },
     "execution_count": 8,
     "metadata": {},
     "output_type": "execute_result"
    }
   ],
   "source": [
    "df['Age'].isnull().sum()"
   ]
  },
  {
   "cell_type": "code",
   "execution_count": 9,
   "id": "4d147b80-f83b-40bf-869b-93f6d09f4855",
   "metadata": {},
   "outputs": [],
   "source": [
    "female_age = df[df['Sex'] == 'female']['Age'] # filter the age of female"
   ]
  },
  {
   "cell_type": "code",
   "execution_count": 10,
   "id": "dce53b78-52a3-4856-bcb4-91999a916ad3",
   "metadata": {},
   "outputs": [
    {
     "data": {
      "text/plain": [
       "10     4.0\n",
       "381    1.0\n",
       "367    NaN\n",
       "Name: Age, dtype: float64"
      ]
     },
     "execution_count": 10,
     "metadata": {},
     "output_type": "execute_result"
    }
   ],
   "source": [
    "female_age.sample(3)"
   ]
  },
  {
   "cell_type": "code",
   "execution_count": 11,
   "id": "d3576169-0070-4f4c-9176-a4692d8246ae",
   "metadata": {},
   "outputs": [],
   "source": [
    "male_age = df[df['Sex'] == 'male']['Age'] # filter the age of female"
   ]
  },
  {
   "cell_type": "code",
   "execution_count": 12,
   "id": "b9abad67-7bfa-4fdb-a530-daac7aa96879",
   "metadata": {},
   "outputs": [
    {
     "data": {
      "text/plain": [
       "78      0.83\n",
       "420      NaN\n",
       "292    36.00\n",
       "Name: Age, dtype: float64"
      ]
     },
     "execution_count": 12,
     "metadata": {},
     "output_type": "execute_result"
    }
   ],
   "source": [
    "male_age.sample(3)"
   ]
  },
  {
   "cell_type": "code",
   "execution_count": 13,
   "id": "052025be-004c-4b6e-b502-9b0ed3554e1f",
   "metadata": {},
   "outputs": [
    {
     "data": {
      "text/plain": [
       "(29.0, 27.0)"
      ]
     },
     "execution_count": 13,
     "metadata": {},
     "output_type": "execute_result"
    }
   ],
   "source": [
    "# getting the median of male and female\n",
    "male_median = male_age.median()\n",
    "female_median = female_age.median()\n",
    "male_median, female_median"
   ]
  },
  {
   "cell_type": "code",
   "execution_count": 14,
   "id": "c71c4c22-5965-454d-b4fb-788cffa497e8",
   "metadata": {},
   "outputs": [
    {
     "data": {
      "text/plain": [
       "Sex\n",
       "female    27.0\n",
       "male      29.0\n",
       "Name: Age, dtype: float64"
      ]
     },
     "execution_count": 14,
     "metadata": {},
     "output_type": "execute_result"
    }
   ],
   "source": [
    "medians = df.groupby('Sex')['Age'].median() # getting the median of age in series\n",
    "medians"
   ]
  },
  {
   "cell_type": "code",
   "execution_count": 15,
   "id": "aba5964f-d0ca-4637-af80-34f2c8d873bc",
   "metadata": {},
   "outputs": [],
   "source": [
    "# replacing NaN to median values\n",
    "\n",
    "df.set_index(['Sex'], inplace=True)  # setting 'Sex' as index for lookup\n",
    "\n",
    "df['Age'] = df['Age'].fillna(medians) # filling the NaN 'Age' cells\n",
    "\n",
    "df.reset_index(inplace=True) # reseting index to default after operation"
   ]
  },
  {
   "cell_type": "markdown",
   "id": "db87958a-67ce-44b3-b64d-e98a5e3ae30b",
   "metadata": {},
   "source": [
    "**Ploting b/w Survival and Non Survival**"
   ]
  },
  {
   "cell_type": "code",
   "execution_count": 16,
   "id": "4f54335d-1093-4508-a5f5-621158473962",
   "metadata": {},
   "outputs": [
    {
     "data": {
      "text/plain": [
       "Survived\n",
       "0    549\n",
       "1    342\n",
       "dtype: int64"
      ]
     },
     "execution_count": 16,
     "metadata": {},
     "output_type": "execute_result"
    }
   ],
   "source": [
    "X = df.groupby('Survived').size() # getting how many survived and dead\n",
    "X"
   ]
  },
  {
   "cell_type": "code",
   "execution_count": 17,
   "id": "870185db-a159-437b-b2e9-96eadff661a5",
   "metadata": {},
   "outputs": [],
   "source": [
    "# creating variables for both survived and death\n",
    "number_of_deaths = X[0]\n",
    "number_of_survival = X[1]"
   ]
  },
  {
   "cell_type": "code",
   "execution_count": 18,
   "id": "f1f2d955-ec9f-447d-a035-75c0ca1a024a",
   "metadata": {},
   "outputs": [
    {
     "data": {
      "text/plain": [
       "(549, 342)"
      ]
     },
     "execution_count": 18,
     "metadata": {},
     "output_type": "execute_result"
    }
   ],
   "source": [
    "number_of_deaths, number_of_survival"
   ]
  },
  {
   "cell_type": "code",
   "execution_count": 19,
   "id": "01da5226-0fff-4555-8bbd-cc57aece771b",
   "metadata": {},
   "outputs": [
    {
     "data": {
      "image/png": "[encoded data removed]",
      "text/plain": [
       "<Figure size 640x480 with 1 Axes>"
      ]
     },
     "metadata": {},
     "output_type": "display_data"
    }
   ],
   "source": [
    "# ploting pie chart (B/w how many survived and how many dead)\n",
    "x=[number_of_deaths, number_of_survival]\n",
    "labels = [f'Non-Survival\\n({number_of_deaths})', f'Survival\\n({number_of_survival})']\n",
    "explode = [0.1, 0.0]\n",
    "\n",
    "plt.pie(x=x, autopct='%1.1f%%', shadow=True, labels=labels, startangle=80, labeldistance=1.1, \n",
    "        textprops={'fontsize':15}, explode=explode, wedgeprops={'linewidth': 2.1, 'edgecolor':'black'})\n",
    "\n",
    "plt.title('Survival and Non-Survival Pie Chart')\n",
    "\n",
    "plt.legend(loc=3)\n",
    "plt.savefig('Analysis Output/Survival and Non-Survival (Pie Chart).png', transparent=None, dpi=200, bbox_inches='tight') # saving the figure\n",
    "plt.show()"
   ]
  },
  {
   "cell_type": "markdown",
   "id": "1d9e6ea7-8a88-4e6e-a515-7125e1fa0398",
   "metadata": {},
   "source": [
    "**Analysis**-<br>\n",
    "&rarr; It can be analyzed that\n",
    "\n",
    "<li>Total Percentage of Number of Deaths = 61.61%\n",
    "\n",
    "<li>Total Percentage of Number of Survivors = 38.38%"
   ]
  },
  {
   "cell_type": "markdown",
   "id": "7b230271-a548-4e75-9aed-0248bced3f29",
   "metadata": {},
   "source": [
    "<hr>"
   ]
  },
  {
   "cell_type": "markdown",
   "id": "f4253889-77c5-4b3f-a74d-00a06f056b3d",
   "metadata": {},
   "source": [
    "# Number of Passenger Travelled in each class ?"
   ]
  },
  {
   "cell_type": "code",
   "execution_count": 20,
   "id": "f747c4dc-c850-467c-b146-3df88d652e02",
   "metadata": {},
   "outputs": [
    {
     "data": {
      "image/png": "[encoded data removed]",
      "text/plain": [
       "<Figure size 640x480 with 1 Axes>"
      ]
     },
     "metadata": {},
     "output_type": "display_data"
    }
   ],
   "source": [
    "sns.countplot(x='Pclass', data=df, hue='Sex', saturation=10)\n",
    "\n",
    "\n",
    "plt.ylabel('Number of Passengers', fontdict={'fontsize':15})\n",
    "plt.xlabel('Pclass', fontdict={'fontsize':15})\n",
    "\n",
    "plt.title('Passenger Travel in Each Class', fontsize = 22)\n",
    "\n",
    "plt.grid()\n",
    "plt.savefig('Analysis Output/Passenger Travel in Each Class (Count Plot).png', transparent=None, dpi=200, bbox_inches='tight')\n",
    "plt.show()"
   ]
  },
  {
   "cell_type": "markdown",
   "id": "8ccb34a6-111c-41c5-9a7e-d1a350b2cda6",
   "metadata": {},
   "source": [
    "<hr>"
   ]
  },
  {
   "cell_type": "markdown",
   "id": "d23677f4-18dc-45f6-a461-3c18d257157a",
   "metadata": {},
   "source": [
    "# How does survival rate vary by passenger class (Pclass)?"
   ]
  },
  {
   "cell_type": "code",
   "execution_count": 21,
   "id": "78e84cd9-b1ee-4566-b1bb-0c5303bb9928",
   "metadata": {},
   "outputs": [
    {
     "data": {
      "text/html": [
       "<div>\n",
       "<style scoped>\n",
       "    .dataframe tbody tr th:only-of-type {\n",
       "        vertical-align: middle;\n",
       "    }\n",
       "\n",
       "    .dataframe tbody tr th {\n",
       "        vertical-align: top;\n",
       "    }\n",
       "\n",
       "    .dataframe thead th {\n",
       "        text-align: right;\n",
       "    }\n",
       "</style>\n",
       "<table border=\"1\" class=\"dataframe\">\n",
       "  <thead>\n",
       "    <tr style=\"text-align: right;\">\n",
       "      <th></th>\n",
       "      <th>Sex</th>\n",
       "      <th>PassengerId</th>\n",
       "      <th>Survived</th>\n",
       "      <th>Pclass</th>\n",
       "      <th>Name</th>\n",
       "      <th>Age</th>\n",
       "      <th>Ticket</th>\n",
       "      <th>Fare</th>\n",
       "      <th>Cabin</th>\n",
       "      <th>Embarked</th>\n",
       "      <th>Family Size</th>\n",
       "    </tr>\n",
       "  </thead>\n",
       "  <tbody>\n",
       "    <tr>\n",
       "      <th>0</th>\n",
       "      <td>male</td>\n",
       "      <td>1</td>\n",
       "      <td>0</td>\n",
       "      <td>3</td>\n",
       "      <td>Braund, Mr. Owen Harris</td>\n",
       "      <td>22.0</td>\n",
       "      <td>A/5 21171</td>\n",
       "      <td>7.2500</td>\n",
       "      <td>NaN</td>\n",
       "      <td>S</td>\n",
       "      <td>2</td>\n",
       "    </tr>\n",
       "    <tr>\n",
       "      <th>1</th>\n",
       "      <td>female</td>\n",
       "      <td>2</td>\n",
       "      <td>1</td>\n",
       "      <td>1</td>\n",
       "      <td>Cumings, Mrs. John Bradley (Florence Briggs Th...</td>\n",
       "      <td>38.0</td>\n",
       "      <td>PC 17599</td>\n",
       "      <td>71.2833</td>\n",
       "      <td>C85</td>\n",
       "      <td>C</td>\n",
       "      <td>2</td>\n",
       "    </tr>\n",
       "    <tr>\n",
       "      <th>2</th>\n",
       "      <td>female</td>\n",
       "      <td>3</td>\n",
       "      <td>1</td>\n",
       "      <td>3</td>\n",
       "      <td>Heikkinen, Miss. Laina</td>\n",
       "      <td>26.0</td>\n",
       "      <td>STON/O2. 3101282</td>\n",
       "      <td>7.9250</td>\n",
       "      <td>NaN</td>\n",
       "      <td>S</td>\n",
       "      <td>1</td>\n",
       "    </tr>\n",
       "    <tr>\n",
       "      <th>3</th>\n",
       "      <td>female</td>\n",
       "      <td>4</td>\n",
       "      <td>1</td>\n",
       "      <td>1</td>\n",
       "      <td>Futrelle, Mrs. Jacques Heath (Lily May Peel)</td>\n",
       "      <td>35.0</td>\n",
       "      <td>113803</td>\n",
       "      <td>53.1000</td>\n",
       "      <td>C123</td>\n",
       "      <td>S</td>\n",
       "      <td>2</td>\n",
       "    </tr>\n",
       "    <tr>\n",
       "      <th>4</th>\n",
       "      <td>male</td>\n",
       "      <td>5</td>\n",
       "      <td>0</td>\n",
       "      <td>3</td>\n",
       "      <td>Allen, Mr. William Henry</td>\n",
       "      <td>35.0</td>\n",
       "      <td>373450</td>\n",
       "      <td>8.0500</td>\n",
       "      <td>NaN</td>\n",
       "      <td>S</td>\n",
       "      <td>1</td>\n",
       "    </tr>\n",
       "  </tbody>\n",
       "</table>\n",
       "</div>"
      ],
      "text/plain": [
       "      Sex  PassengerId  Survived  Pclass  \\\n",
       "0    male            1         0       3   \n",
       "1  female            2         1       1   \n",
       "2  female            3         1       3   \n",
       "3  female            4         1       1   \n",
       "4    male            5         0       3   \n",
       "\n",
       "                                                Name   Age            Ticket  \\\n",
       "0                            Braund, Mr. Owen Harris  22.0         A/5 21171   \n",
       "1  Cumings, Mrs. John Bradley (Florence Briggs Th...  38.0          PC 17599   \n",
       "2                             Heikkinen, Miss. Laina  26.0  STON/O2. 3101282   \n",
       "3       Futrelle, Mrs. Jacques Heath (Lily May Peel)  35.0            113803   \n",
       "4                           Allen, Mr. William Henry  35.0            373450   \n",
       "\n",
       "      Fare Cabin Embarked  Family Size  \n",
       "0   7.2500   NaN        S            2  \n",
       "1  71.2833   C85        C            2  \n",
       "2   7.9250   NaN        S            1  \n",
       "3  53.1000  C123        S            2  \n",
       "4   8.0500   NaN        S            1  "
      ]
     },
     "execution_count": 21,
     "metadata": {},
     "output_type": "execute_result"
    }
   ],
   "source": [
    "df.head()"
   ]
  },
  {
   "cell_type": "code",
   "execution_count": 22,
   "id": "b2bbe20f-939f-49d3-8813-6a016006442a",
   "metadata": {},
   "outputs": [
    {
     "data": {
      "text/plain": [
       "891"
      ]
     },
     "execution_count": 22,
     "metadata": {},
     "output_type": "execute_result"
    }
   ],
   "source": [
    "# calculating total passenger\n",
    "total_passenger = df.groupby('Pclass').size().sum() \n",
    "total_passenger"
   ]
  },
  {
   "cell_type": "code",
   "execution_count": 23,
   "id": "f34891ac-a43e-4eea-85b9-7774c436f7bf",
   "metadata": {},
   "outputs": [
    {
     "data": {
      "text/plain": [
       "Pclass\n",
       "1    216\n",
       "2    184\n",
       "3    491\n",
       "dtype: int64"
      ]
     },
     "execution_count": 23,
     "metadata": {},
     "output_type": "execute_result"
    }
   ],
   "source": [
    "# calculaing passenger by Pclass\n",
    "total_passenger_in_class = df.groupby('Pclass').size()\n",
    "total_passenger_in_class"
   ]
  },
  {
   "cell_type": "code",
   "execution_count": 24,
   "id": "5479b4b7-4ff0-40ed-9fbb-930c3930a2b7",
   "metadata": {},
   "outputs": [
    {
     "data": {
      "text/plain": [
       "Pclass\n",
       "1    136\n",
       "2     87\n",
       "3    119\n",
       "dtype: int64"
      ]
     },
     "execution_count": 24,
     "metadata": {},
     "output_type": "execute_result"
    }
   ],
   "source": [
    "# Calculating Survived Passenger in each class\n",
    "total_survived_in_each_class = df[df['Survived'] == 1].groupby('Pclass').size()\n",
    "total_survived_in_each_class"
   ]
  },
  {
   "cell_type": "code",
   "execution_count": 25,
   "id": "f378554d-194a-4da4-bdf2-e66130a3b9fd",
   "metadata": {},
   "outputs": [
    {
     "data": {
      "text/plain": [
       "Pclass\n",
       "1    62.962963\n",
       "2    47.282609\n",
       "3    24.236253\n",
       "dtype: float64"
      ]
     },
     "execution_count": 25,
     "metadata": {},
     "output_type": "execute_result"
    }
   ],
   "source": [
    "# calculating Survival Rate\n",
    "total_survival_rate = total_survived_in_each_class / total_passenger_in_class * 100\n",
    "total_survival_rate"
   ]
  },
  {
   "cell_type": "code",
   "execution_count": 26,
   "id": "b72b3d18-a8c4-428c-ac21-46a796d4223f",
   "metadata": {},
   "outputs": [
    {
     "data": {
      "image/png": "[encoded data removed]",
      "text/plain": [
       "<Figure size 640x480 with 1 Axes>"
      ]
     },
     "metadata": {},
     "output_type": "display_data"
    }
   ],
   "source": [
    "# Ploting Pie chart of Survival rate vary by passenger class\n",
    "labels = ['Pclass 1', 'Pclass 2', 'Pclass 3']\n",
    "explode = [0.0, 0.0, 0.1]\n",
    "\n",
    "x = [total_survival_rate[1], total_survival_rate[2], total_survival_rate[3]]\n",
    "plt.pie(x, autopct='%.1f%%', shadow=True, labels=labels, labeldistance=.3, \n",
    "        wedgeprops={'linewidth':2.1, 'edgecolor': 'black'}, explode=explode, textprops={'fontsize': 13})\n",
    "\n",
    "plt.title('Comparsion of Survival Rate vary by Passenger Class')\n",
    "plt.legend()\n",
    "plt.savefig('Analysis Output/Comparsion of Survival Rate vary by Passenger Class(Pie Chart).png', transparent=None, dpi=200, bbox_inches='tight')\n",
    "plt.show()"
   ]
  },
  {
   "cell_type": "markdown",
   "id": "e403fb9e-66bc-4001-9b51-7818d3740273",
   "metadata": {},
   "source": [
    "This Analysis Shows the Survival rate if Passenger travels in any of the class"
   ]
  },
  {
   "cell_type": "markdown",
   "id": "4a648582-23fe-4eac-875f-3ff2067c7e7b",
   "metadata": {},
   "source": [
    "<hr>\n",
    "<hr>"
   ]
  },
  {
   "cell_type": "markdown",
   "id": "896b3e00-b199-4a7a-b427-dab3b8aa8f6d",
   "metadata": {},
   "source": [
    "# Survival Rate by Gender"
   ]
  },
  {
   "cell_type": "code",
   "execution_count": 27,
   "id": "7bc41c13-ec17-4482-b442-02c11ab81fd6",
   "metadata": {},
   "outputs": [
    {
     "data": {
      "text/html": [
       "<div>\n",
       "<style scoped>\n",
       "    .dataframe tbody tr th:only-of-type {\n",
       "        vertical-align: middle;\n",
       "    }\n",
       "\n",
       "    .dataframe tbody tr th {\n",
       "        vertical-align: top;\n",
       "    }\n",
       "\n",
       "    .dataframe thead th {\n",
       "        text-align: right;\n",
       "    }\n",
       "</style>\n",
       "<table border=\"1\" class=\"dataframe\">\n",
       "  <thead>\n",
       "    <tr style=\"text-align: right;\">\n",
       "      <th></th>\n",
       "      <th>Sex</th>\n",
       "      <th>PassengerId</th>\n",
       "      <th>Survived</th>\n",
       "      <th>Pclass</th>\n",
       "      <th>Name</th>\n",
       "      <th>Age</th>\n",
       "      <th>Ticket</th>\n",
       "      <th>Fare</th>\n",
       "      <th>Cabin</th>\n",
       "      <th>Embarked</th>\n",
       "      <th>Family Size</th>\n",
       "    </tr>\n",
       "  </thead>\n",
       "  <tbody>\n",
       "    <tr>\n",
       "      <th>10</th>\n",
       "      <td>female</td>\n",
       "      <td>11</td>\n",
       "      <td>1</td>\n",
       "      <td>3</td>\n",
       "      <td>Sandstrom, Miss. Marguerite Rut</td>\n",
       "      <td>4.0</td>\n",
       "      <td>PP 9549</td>\n",
       "      <td>16.7000</td>\n",
       "      <td>G6</td>\n",
       "      <td>S</td>\n",
       "      <td>3</td>\n",
       "    </tr>\n",
       "    <tr>\n",
       "      <th>643</th>\n",
       "      <td>male</td>\n",
       "      <td>644</td>\n",
       "      <td>1</td>\n",
       "      <td>3</td>\n",
       "      <td>Foo, Mr. Choong</td>\n",
       "      <td>29.0</td>\n",
       "      <td>1601</td>\n",
       "      <td>56.4958</td>\n",
       "      <td>NaN</td>\n",
       "      <td>S</td>\n",
       "      <td>1</td>\n",
       "    </tr>\n",
       "  </tbody>\n",
       "</table>\n",
       "</div>"
      ],
      "text/plain": [
       "        Sex  PassengerId  Survived  Pclass                             Name  \\\n",
       "10   female           11         1       3  Sandstrom, Miss. Marguerite Rut   \n",
       "643    male          644         1       3                  Foo, Mr. Choong   \n",
       "\n",
       "      Age   Ticket     Fare Cabin Embarked  Family Size  \n",
       "10    4.0  PP 9549  16.7000    G6        S            3  \n",
       "643  29.0     1601  56.4958   NaN        S            1  "
      ]
     },
     "execution_count": 27,
     "metadata": {},
     "output_type": "execute_result"
    }
   ],
   "source": [
    "df.sample(2)"
   ]
  },
  {
   "cell_type": "code",
   "execution_count": 28,
   "id": "213e62bf-95c7-4115-90bb-1a42bc3b63b1",
   "metadata": {},
   "outputs": [
    {
     "data": {
      "text/plain": [
       "Sex\n",
       "female    314\n",
       "male      577\n",
       "dtype: int64"
      ]
     },
     "execution_count": 28,
     "metadata": {},
     "output_type": "execute_result"
    }
   ],
   "source": [
    "# Distributing passenger by Sex\n",
    "total_passenger_by_gender = df.groupby('Sex').size()\n",
    "total_passenger_by_gender"
   ]
  },
  {
   "cell_type": "code",
   "execution_count": 29,
   "id": "7a175e4e-c784-48a5-82bf-6ffcc401d90a",
   "metadata": {},
   "outputs": [
    {
     "data": {
      "text/plain": [
       "Sex\n",
       "female    233\n",
       "male      109\n",
       "Name: Survived, dtype: int64"
      ]
     },
     "execution_count": 29,
     "metadata": {},
     "output_type": "execute_result"
    }
   ],
   "source": [
    "# Survivor Among those Sex\n",
    "survivors_by_gender = df.groupby('Sex')['Survived'].sum()\n",
    "survivors_by_gender"
   ]
  },
  {
   "cell_type": "code",
   "execution_count": 30,
   "id": "a31af9f7-d261-433c-9a93-3e33beb5dc5d",
   "metadata": {},
   "outputs": [
    {
     "data": {
      "text/plain": [
       "Sex\n",
       "female    74.203822\n",
       "male      18.890815\n",
       "dtype: float64"
      ]
     },
     "execution_count": 30,
     "metadata": {},
     "output_type": "execute_result"
    }
   ],
   "source": [
    "# Calculating Rate of survival by Gnder\n",
    "survival_rate_by_gender = survivors_by_gender / total_passenger_by_gender * 100\n",
    "survival_rate_by_gender"
   ]
  },
  {
   "cell_type": "code",
   "execution_count": 31,
   "id": "d328b0c6-cdbf-4275-a599-664930a0aaf8",
   "metadata": {},
   "outputs": [
    {
     "data": {
      "text/plain": [
       "Text(38.347222222222214, 0.5, 'Number of Passengers')"
      ]
     },
     "execution_count": 31,
     "metadata": {},
     "output_type": "execute_result"
    },
    {
     "data": {
      "image/png": "[encoded data removed]",
      "text/plain": [
       "<Figure size 640x480 with 1 Axes>"
      ]
     },
     "metadata": {},
     "output_type": "display_data"
    }
   ],
   "source": [
    "# PLoting Survival Rate By Gender\n",
    "sns.countplot(data=df, x='Survived', palette=['red', 'green'], hue='Sex', linewidth=1, edgecolor='black', alpha=0.5)\n",
    "plt.title('Survival Rate by Gender', fontsize=20)\n",
    "\n",
    "plt.xlabel('Survival', fontsize=12)\n",
    "plt.savefig('Analysis Output/Survival Rate by Gender(Count Plot).png', transparent=None, dpi=200, bbox_inches='tight')\n",
    "plt.ylabel('Number of Passengers', fontsize=12)"
   ]
  },
  {
   "cell_type": "markdown",
   "id": "20a14050-a37a-45b5-b05c-ff9bcc636b0f",
   "metadata": {},
   "source": [
    "# Age distribution for survivors and non-survivors"
   ]
  },
  {
   "cell_type": "code",
   "execution_count": 32,
   "id": "397b1351-39ed-4beb-9159-9ab7adf1d2e5",
   "metadata": {},
   "outputs": [
    {
     "data": {
      "text/plain": [
       "[]"
      ]
     },
     "execution_count": 32,
     "metadata": {},
     "output_type": "execute_result"
    },
    {
     "data": {
      "image/png": "[encoded data removed]",
      "text/plain": [
       "<Figure size 640x480 with 1 Axes>"
      ]
     },
     "metadata": {},
     "output_type": "display_data"
    }
   ],
   "source": [
    "# ploting age distribution of survival and non survival\n",
    "labels = ['Non-Survived', 'Survived']\n",
    "\n",
    "ax = sns.boxplot(data=df, x='Age', hue='Survived', linewidth = 2, \n",
    "                 showmeans=True, meanprops={'marker':'+', \n",
    "                                            'markeredgecolor':'white', \n",
    "                                            'markersize':9})\n",
    "\n",
    "handles = ax.get_legend_handles_labels()[0]\n",
    "\n",
    "plt.legend(handles=handles, labels=labels, title='Survival Status')\n",
    "\n",
    "plt.title('Age Distribution of Survivors and Non-Survivors')\n",
    "plt.savefig('Analysis Output/Age Distribution of Survival and Non-Survival.png', transparent=None, dpi=200, bbox_inches='tight')\n",
    "plt.plot()"
   ]
  },
  {
   "cell_type": "code",
   "execution_count": 33,
   "id": "cf2fa562-0d1b-48b8-bc9f-e2889f25266c",
   "metadata": {},
   "outputs": [
    {
     "data": {
      "text/plain": [
       "Survived\n",
       "0    29.0\n",
       "1    27.0\n",
       "Name: Age, dtype: float64"
      ]
     },
     "execution_count": 33,
     "metadata": {},
     "output_type": "execute_result"
    }
   ],
   "source": [
    "df.groupby('Survived')['Age'].median() # Calculating median of age of survived and non survived"
   ]
  },
  {
   "cell_type": "markdown",
   "id": "4a3b4927-efdc-4407-8286-ed5b8db45f4e",
   "metadata": {},
   "source": [
    "<hr>\n",
    "<hr>"
   ]
  },
  {
   "cell_type": "markdown",
   "id": "a281da0c-2073-4b75-9e47-5baa565eb022",
   "metadata": {},
   "source": [
    "# Compare fare distributions between survivors and non-survivors.\n"
   ]
  },
  {
   "cell_type": "code",
   "execution_count": 34,
   "id": "62da8919-4a4f-4126-afde-b947443244e2",
   "metadata": {},
   "outputs": [
    {
     "data": {
      "text/html": [
       "<div>\n",
       "<style scoped>\n",
       "    .dataframe tbody tr th:only-of-type {\n",
       "        vertical-align: middle;\n",
       "    }\n",
       "\n",
       "    .dataframe tbody tr th {\n",
       "        vertical-align: top;\n",
       "    }\n",
       "\n",
       "    .dataframe thead th {\n",
       "        text-align: right;\n",
       "    }\n",
       "</style>\n",
       "<table border=\"1\" class=\"dataframe\">\n",
       "  <thead>\n",
       "    <tr style=\"text-align: right;\">\n",
       "      <th></th>\n",
       "      <th>Sex</th>\n",
       "      <th>PassengerId</th>\n",
       "      <th>Survived</th>\n",
       "      <th>Pclass</th>\n",
       "      <th>Name</th>\n",
       "      <th>Age</th>\n",
       "      <th>Ticket</th>\n",
       "      <th>Fare</th>\n",
       "      <th>Cabin</th>\n",
       "      <th>Embarked</th>\n",
       "      <th>Family Size</th>\n",
       "    </tr>\n",
       "  </thead>\n",
       "  <tbody>\n",
       "    <tr>\n",
       "      <th>631</th>\n",
       "      <td>male</td>\n",
       "      <td>632</td>\n",
       "      <td>0</td>\n",
       "      <td>3</td>\n",
       "      <td>Lundahl, Mr. Johan Svensson</td>\n",
       "      <td>51.0</td>\n",
       "      <td>347743</td>\n",
       "      <td>7.0542</td>\n",
       "      <td>NaN</td>\n",
       "      <td>S</td>\n",
       "      <td>1</td>\n",
       "    </tr>\n",
       "    <tr>\n",
       "      <th>397</th>\n",
       "      <td>male</td>\n",
       "      <td>398</td>\n",
       "      <td>0</td>\n",
       "      <td>2</td>\n",
       "      <td>McKane, Mr. Peter David</td>\n",
       "      <td>46.0</td>\n",
       "      <td>28403</td>\n",
       "      <td>26.0000</td>\n",
       "      <td>NaN</td>\n",
       "      <td>S</td>\n",
       "      <td>1</td>\n",
       "    </tr>\n",
       "  </tbody>\n",
       "</table>\n",
       "</div>"
      ],
      "text/plain": [
       "      Sex  PassengerId  Survived  Pclass                         Name   Age  \\\n",
       "631  male          632         0       3  Lundahl, Mr. Johan Svensson  51.0   \n",
       "397  male          398         0       2      McKane, Mr. Peter David  46.0   \n",
       "\n",
       "     Ticket     Fare Cabin Embarked  Family Size  \n",
       "631  347743   7.0542   NaN        S            1  \n",
       "397   28403  26.0000   NaN        S            1  "
      ]
     },
     "execution_count": 34,
     "metadata": {},
     "output_type": "execute_result"
    }
   ],
   "source": [
    "df.sample(2)"
   ]
  },
  {
   "cell_type": "code",
   "execution_count": 35,
   "id": "1e08e4df-b254-40df-9202-4fb02232e39b",
   "metadata": {},
   "outputs": [
    {
     "data": {
      "text/plain": [
       "<Axes: xlabel='Fare'>"
      ]
     },
     "execution_count": 35,
     "metadata": {},
     "output_type": "execute_result"
    },
    {
     "data": {
      "image/png": "[encoded data removed]",
      "text/plain": [
       "<Figure size 640x480 with 1 Axes>"
      ]
     },
     "metadata": {},
     "output_type": "display_data"
    }
   ],
   "source": [
    "# we observer that  there is onw outlier, which is very different from other one\n",
    "sns.boxplot(data=df, x='Fare')"
   ]
  },
  {
   "cell_type": "markdown",
   "id": "d4848fea-ec8e-48c7-a1ea-e6c0c9875823",
   "metadata": {},
   "source": [
    "**<h3>Since the one of the fare is too high (outliers), so we replace it with median**"
   ]
  },
  {
   "cell_type": "code",
   "execution_count": 36,
   "id": "d4e82eea-f66a-4b40-85c9-f8fdf22f214e",
   "metadata": {
    "scrolled": true
   },
   "outputs": [
    {
     "data": {
      "text/plain": [
       "14.4542"
      ]
     },
     "execution_count": 36,
     "metadata": {},
     "output_type": "execute_result"
    }
   ],
   "source": [
    "# calculating median of Fare\n",
    "median_fare = df['Fare'].median()\n",
    "median_fare"
   ]
  },
  {
   "cell_type": "code",
   "execution_count": 37,
   "id": "38ccd6a5-2996-497a-9047-b80f414fd21b",
   "metadata": {},
   "outputs": [
    {
     "data": {
      "text/plain": [
       "512.3292"
      ]
     },
     "execution_count": 37,
     "metadata": {},
     "output_type": "execute_result"
    }
   ],
   "source": [
    "# calculating max fare to replace with\n",
    "max_fare = df['Fare'].max()\n",
    "max_fare"
   ]
  },
  {
   "cell_type": "code",
   "execution_count": 38,
   "id": "c50811f4-0d58-4cc6-91a2-926bd6b3b7dc",
   "metadata": {},
   "outputs": [],
   "source": [
    "df.replace(max_fare, median_fare, inplace=True) # replacing max fare to median fare"
   ]
  },
  {
   "cell_type": "code",
   "execution_count": 39,
   "id": "65484026-ddf0-4aab-b8f3-975fcbe61bc5",
   "metadata": {},
   "outputs": [
    {
     "data": {
      "text/plain": [
       "14.4542"
      ]
     },
     "execution_count": 39,
     "metadata": {},
     "output_type": "execute_result"
    }
   ],
   "source": [
    "median_fare = df['Fare'].median()\n",
    "median_fare"
   ]
  },
  {
   "cell_type": "code",
   "execution_count": 40,
   "id": "687d8d7b-3882-48db-ad9b-3a95d8714c32",
   "metadata": {},
   "outputs": [
    {
     "data": {
      "image/png": "[encoded data removed]",
      "text/plain": [
       "<Figure size 640x480 with 1 Axes>"
      ]
     },
     "metadata": {},
     "output_type": "display_data"
    }
   ],
   "source": [
    "# again ploting Box plot of Fare\n",
    "ax = sns.boxplot(data=df, x='Fare', hue='Survived', linewidth = 1.5,\n",
    "           showmeans=True, meanprops={\n",
    "               'marker': 'x',\n",
    "               'markeredgecolor': 'white',\n",
    "           })\n",
    "\n",
    "labels = ['Not-Survived', 'Survived']\n",
    "handles = ax.get_legend_handles_labels()[0]\n",
    "\n",
    "plt.legend(handles=handles, labels=labels, title='Survival Status')\n",
    "\n",
    "plt.title('Fare Distribution Comparision Between Survivor and Non-Survivor', fontsize=18)\n",
    "\n",
    "plt.xlabel('Fare', fontsize=15)\n",
    "\n",
    "plt.savefig('Analysis Output/Fare Distribution Between Survival and Non-Survival(Box Plot).png', transparent=None, dpi=200, bbox_inches='tight')\n",
    "\n",
    "plt.show()"
   ]
  },
  {
   "cell_type": "code",
   "execution_count": 41,
   "id": "cc1b2993-c499-4c52-b52d-c5f52fa5662b",
   "metadata": {},
   "outputs": [
    {
     "data": {
      "text/plain": [
       "Survived\n",
       "0    10.5\n",
       "1    26.0\n",
       "Name: Fare, dtype: float64"
      ]
     },
     "execution_count": 41,
     "metadata": {},
     "output_type": "execute_result"
    }
   ],
   "source": [
    "# Grouping Median Fare to Survival\n",
    "median_fare = df.groupby('Survived')['Fare'].median()\n",
    "median_fare"
   ]
  },
  {
   "cell_type": "markdown",
   "id": "a8d3479a-96db-4215-bbf0-8addbcf9350d",
   "metadata": {},
   "source": [
    "<hr>\n",
    "<hr>"
   ]
  },
  {
   "cell_type": "markdown",
   "id": "0f3cb089-d141-478d-a6a9-295e139f6b2d",
   "metadata": {},
   "source": [
    "# Survival rates based on the number of Family Members Size"
   ]
  },
  {
   "cell_type": "code",
   "execution_count": 42,
   "id": "daba2d8d-d59d-46fd-8be2-d73956222aa6",
   "metadata": {},
   "outputs": [
    {
     "data": {
      "text/html": [
       "<div>\n",
       "<style scoped>\n",
       "    .dataframe tbody tr th:only-of-type {\n",
       "        vertical-align: middle;\n",
       "    }\n",
       "\n",
       "    .dataframe tbody tr th {\n",
       "        vertical-align: top;\n",
       "    }\n",
       "\n",
       "    .dataframe thead th {\n",
       "        text-align: right;\n",
       "    }\n",
       "</style>\n",
       "<table border=\"1\" class=\"dataframe\">\n",
       "  <thead>\n",
       "    <tr style=\"text-align: right;\">\n",
       "      <th></th>\n",
       "      <th>Sex</th>\n",
       "      <th>PassengerId</th>\n",
       "      <th>Survived</th>\n",
       "      <th>Pclass</th>\n",
       "      <th>Name</th>\n",
       "      <th>Age</th>\n",
       "      <th>Ticket</th>\n",
       "      <th>Fare</th>\n",
       "      <th>Cabin</th>\n",
       "      <th>Embarked</th>\n",
       "      <th>Family Size</th>\n",
       "    </tr>\n",
       "  </thead>\n",
       "  <tbody>\n",
       "    <tr>\n",
       "      <th>196</th>\n",
       "      <td>male</td>\n",
       "      <td>197</td>\n",
       "      <td>0</td>\n",
       "      <td>3</td>\n",
       "      <td>Mernagh, Mr. Robert</td>\n",
       "      <td>29.0</td>\n",
       "      <td>368703</td>\n",
       "      <td>7.750</td>\n",
       "      <td>NaN</td>\n",
       "      <td>Q</td>\n",
       "      <td>1</td>\n",
       "    </tr>\n",
       "    <tr>\n",
       "      <th>693</th>\n",
       "      <td>male</td>\n",
       "      <td>694</td>\n",
       "      <td>0</td>\n",
       "      <td>3</td>\n",
       "      <td>Saad, Mr. Khalil</td>\n",
       "      <td>25.0</td>\n",
       "      <td>2672</td>\n",
       "      <td>7.225</td>\n",
       "      <td>NaN</td>\n",
       "      <td>C</td>\n",
       "      <td>1</td>\n",
       "    </tr>\n",
       "  </tbody>\n",
       "</table>\n",
       "</div>"
      ],
      "text/plain": [
       "      Sex  PassengerId  Survived  Pclass                 Name   Age  Ticket  \\\n",
       "196  male          197         0       3  Mernagh, Mr. Robert  29.0  368703   \n",
       "693  male          694         0       3     Saad, Mr. Khalil  25.0    2672   \n",
       "\n",
       "      Fare Cabin Embarked  Family Size  \n",
       "196  7.750   NaN        Q            1  \n",
       "693  7.225   NaN        C            1  "
      ]
     },
     "execution_count": 42,
     "metadata": {},
     "output_type": "execute_result"
    }
   ],
   "source": [
    "df.sample(2)"
   ]
  },
  {
   "cell_type": "code",
   "execution_count": 43,
   "id": "4b101b3d-4078-49b7-8519-1f6e009c7494",
   "metadata": {},
   "outputs": [
    {
     "data": {
      "text/html": [
       "<div>\n",
       "<style scoped>\n",
       "    .dataframe tbody tr th:only-of-type {\n",
       "        vertical-align: middle;\n",
       "    }\n",
       "\n",
       "    .dataframe tbody tr th {\n",
       "        vertical-align: top;\n",
       "    }\n",
       "\n",
       "    .dataframe thead th {\n",
       "        text-align: right;\n",
       "    }\n",
       "</style>\n",
       "<table border=\"1\" class=\"dataframe\">\n",
       "  <thead>\n",
       "    <tr style=\"text-align: right;\">\n",
       "      <th></th>\n",
       "      <th>Family Size</th>\n",
       "      <th>Survived</th>\n",
       "      <th>Count</th>\n",
       "    </tr>\n",
       "  </thead>\n",
       "  <tbody>\n",
       "    <tr>\n",
       "      <th>0</th>\n",
       "      <td>1</td>\n",
       "      <td>0</td>\n",
       "      <td>374</td>\n",
       "    </tr>\n",
       "    <tr>\n",
       "      <th>1</th>\n",
       "      <td>1</td>\n",
       "      <td>1</td>\n",
       "      <td>163</td>\n",
       "    </tr>\n",
       "    <tr>\n",
       "      <th>2</th>\n",
       "      <td>2</td>\n",
       "      <td>0</td>\n",
       "      <td>72</td>\n",
       "    </tr>\n",
       "    <tr>\n",
       "      <th>3</th>\n",
       "      <td>2</td>\n",
       "      <td>1</td>\n",
       "      <td>89</td>\n",
       "    </tr>\n",
       "    <tr>\n",
       "      <th>4</th>\n",
       "      <td>3</td>\n",
       "      <td>0</td>\n",
       "      <td>43</td>\n",
       "    </tr>\n",
       "    <tr>\n",
       "      <th>5</th>\n",
       "      <td>3</td>\n",
       "      <td>1</td>\n",
       "      <td>59</td>\n",
       "    </tr>\n",
       "    <tr>\n",
       "      <th>6</th>\n",
       "      <td>4</td>\n",
       "      <td>0</td>\n",
       "      <td>8</td>\n",
       "    </tr>\n",
       "    <tr>\n",
       "      <th>7</th>\n",
       "      <td>4</td>\n",
       "      <td>1</td>\n",
       "      <td>21</td>\n",
       "    </tr>\n",
       "    <tr>\n",
       "      <th>8</th>\n",
       "      <td>5</td>\n",
       "      <td>0</td>\n",
       "      <td>12</td>\n",
       "    </tr>\n",
       "    <tr>\n",
       "      <th>9</th>\n",
       "      <td>5</td>\n",
       "      <td>1</td>\n",
       "      <td>3</td>\n",
       "    </tr>\n",
       "    <tr>\n",
       "      <th>10</th>\n",
       "      <td>6</td>\n",
       "      <td>0</td>\n",
       "      <td>19</td>\n",
       "    </tr>\n",
       "    <tr>\n",
       "      <th>11</th>\n",
       "      <td>6</td>\n",
       "      <td>1</td>\n",
       "      <td>3</td>\n",
       "    </tr>\n",
       "    <tr>\n",
       "      <th>12</th>\n",
       "      <td>7</td>\n",
       "      <td>0</td>\n",
       "      <td>8</td>\n",
       "    </tr>\n",
       "    <tr>\n",
       "      <th>13</th>\n",
       "      <td>7</td>\n",
       "      <td>1</td>\n",
       "      <td>4</td>\n",
       "    </tr>\n",
       "    <tr>\n",
       "      <th>14</th>\n",
       "      <td>8</td>\n",
       "      <td>0</td>\n",
       "      <td>6</td>\n",
       "    </tr>\n",
       "    <tr>\n",
       "      <th>15</th>\n",
       "      <td>11</td>\n",
       "      <td>0</td>\n",
       "      <td>7</td>\n",
       "    </tr>\n",
       "  </tbody>\n",
       "</table>\n",
       "</div>"
      ],
      "text/plain": [
       "    Family Size  Survived  Count\n",
       "0             1         0    374\n",
       "1             1         1    163\n",
       "2             2         0     72\n",
       "3             2         1     89\n",
       "4             3         0     43\n",
       "5             3         1     59\n",
       "6             4         0      8\n",
       "7             4         1     21\n",
       "8             5         0     12\n",
       "9             5         1      3\n",
       "10            6         0     19\n",
       "11            6         1      3\n",
       "12            7         0      8\n",
       "13            7         1      4\n",
       "14            8         0      6\n",
       "15           11         0      7"
      ]
     },
     "execution_count": 43,
     "metadata": {},
     "output_type": "execute_result"
    }
   ],
   "source": [
    "# Family counts of Survival\n",
    "family_survival_counts = df.groupby(['Family Size', 'Survived']).size().reset_index(name='Count')\n",
    "family_survival_counts"
   ]
  },
  {
   "cell_type": "code",
   "execution_count": 44,
   "id": "880d991d-549b-4244-ab5f-3beb31321419",
   "metadata": {},
   "outputs": [
    {
     "name": "stdout",
     "output_type": "stream",
     "text": [
      "   Family Size  Survived  Count\n",
      "0            1         0    374\n",
      "1            2         0     72\n",
      "2            3         0     43\n",
      "3            4         0      8\n",
      "4            5         0     12\n",
      "5            6         0     19\n",
      "6            7         0      8\n",
      "7            8         0      6\n",
      "8           11         0      7\n"
     ]
    },
    {
     "data": {
      "text/html": [
       "<div>\n",
       "<style scoped>\n",
       "    .dataframe tbody tr th:only-of-type {\n",
       "        vertical-align: middle;\n",
       "    }\n",
       "\n",
       "    .dataframe tbody tr th {\n",
       "        vertical-align: top;\n",
       "    }\n",
       "\n",
       "    .dataframe thead th {\n",
       "        text-align: right;\n",
       "    }\n",
       "</style>\n",
       "<table border=\"1\" class=\"dataframe\">\n",
       "  <thead>\n",
       "    <tr style=\"text-align: right;\">\n",
       "      <th></th>\n",
       "      <th>Family Size</th>\n",
       "      <th>Survived</th>\n",
       "      <th>Count of Survived</th>\n",
       "    </tr>\n",
       "  </thead>\n",
       "  <tbody>\n",
       "    <tr>\n",
       "      <th>0</th>\n",
       "      <td>1</td>\n",
       "      <td>1</td>\n",
       "      <td>163</td>\n",
       "    </tr>\n",
       "    <tr>\n",
       "      <th>1</th>\n",
       "      <td>2</td>\n",
       "      <td>1</td>\n",
       "      <td>89</td>\n",
       "    </tr>\n",
       "    <tr>\n",
       "      <th>2</th>\n",
       "      <td>3</td>\n",
       "      <td>1</td>\n",
       "      <td>59</td>\n",
       "    </tr>\n",
       "    <tr>\n",
       "      <th>3</th>\n",
       "      <td>4</td>\n",
       "      <td>1</td>\n",
       "      <td>21</td>\n",
       "    </tr>\n",
       "    <tr>\n",
       "      <th>4</th>\n",
       "      <td>5</td>\n",
       "      <td>1</td>\n",
       "      <td>3</td>\n",
       "    </tr>\n",
       "    <tr>\n",
       "      <th>5</th>\n",
       "      <td>6</td>\n",
       "      <td>1</td>\n",
       "      <td>3</td>\n",
       "    </tr>\n",
       "    <tr>\n",
       "      <th>6</th>\n",
       "      <td>7</td>\n",
       "      <td>1</td>\n",
       "      <td>4</td>\n",
       "    </tr>\n",
       "  </tbody>\n",
       "</table>\n",
       "</div>"
      ],
      "text/plain": [
       "   Family Size  Survived  Count of Survived\n",
       "0            1         1                163\n",
       "1            2         1                 89\n",
       "2            3         1                 59\n",
       "3            4         1                 21\n",
       "4            5         1                  3\n",
       "5            6         1                  3\n",
       "6            7         1                  4"
      ]
     },
     "execution_count": 44,
     "metadata": {},
     "output_type": "execute_result"
    }
   ],
   "source": [
    "# making different data frame for survival and non survival\n",
    "\n",
    "survival_rate = family_survival_counts[family_survival_counts['Survived'] == 1].reset_index(drop=True)\n",
    "survival_rate = pd.DataFrame(survival_rate)\n",
    "\n",
    "death_rate = family_survival_counts[family_survival_counts['Survived'] == 0].reset_index(drop=True)\n",
    "death_rate = pd.DataFrame(death_rate)\n",
    "print(death_rate)\n",
    "\n",
    "survival_rate.rename(columns={'Count':'Count of Survived'}, inplace=True)\n",
    "survival_rate"
   ]
  },
  {
   "cell_type": "code",
   "execution_count": 45,
   "id": "e681738e-015e-4d7b-a1d9-cbcdfc4c645e",
   "metadata": {},
   "outputs": [
    {
     "name": "stderr",
     "output_type": "stream",
     "text": [
      "C:\\Users\\write\\AppData\\Local\\Temp\\ipykernel_21048\\754920656.py:5: FutureWarning: A value is trying to be set on a copy of a DataFrame or Series through chained assignment using an inplace method.\n",
      "The behavior will change in pandas 3.0. This inplace method will never work because the intermediate object on which we are setting values always behaves as a copy.\n",
      "\n",
      "For example, when doing 'df[col].method(value, inplace=True)', try using 'df.method({col: value}, inplace=True)' or df[col] = df[col].method(value) instead, to perform the operation inplace on the original object.\n",
      "\n",
      "\n",
      "  both_rate['Count of Survived'].fillna(0, inplace=True) # replacing Nan values to 0\n"
     ]
    },
    {
     "data": {
      "text/html": [
       "<div>\n",
       "<style scoped>\n",
       "    .dataframe tbody tr th:only-of-type {\n",
       "        vertical-align: middle;\n",
       "    }\n",
       "\n",
       "    .dataframe tbody tr th {\n",
       "        vertical-align: top;\n",
       "    }\n",
       "\n",
       "    .dataframe thead th {\n",
       "        text-align: right;\n",
       "    }\n",
       "</style>\n",
       "<table border=\"1\" class=\"dataframe\">\n",
       "  <thead>\n",
       "    <tr style=\"text-align: right;\">\n",
       "      <th></th>\n",
       "      <th>Family Size</th>\n",
       "      <th>Survived</th>\n",
       "      <th>Not Survived</th>\n",
       "    </tr>\n",
       "  </thead>\n",
       "  <tbody>\n",
       "    <tr>\n",
       "      <th>0</th>\n",
       "      <td>1</td>\n",
       "      <td>163</td>\n",
       "      <td>374</td>\n",
       "    </tr>\n",
       "    <tr>\n",
       "      <th>1</th>\n",
       "      <td>2</td>\n",
       "      <td>89</td>\n",
       "      <td>72</td>\n",
       "    </tr>\n",
       "    <tr>\n",
       "      <th>2</th>\n",
       "      <td>3</td>\n",
       "      <td>59</td>\n",
       "      <td>43</td>\n",
       "    </tr>\n",
       "    <tr>\n",
       "      <th>3</th>\n",
       "      <td>4</td>\n",
       "      <td>21</td>\n",
       "      <td>8</td>\n",
       "    </tr>\n",
       "    <tr>\n",
       "      <th>4</th>\n",
       "      <td>5</td>\n",
       "      <td>3</td>\n",
       "      <td>12</td>\n",
       "    </tr>\n",
       "    <tr>\n",
       "      <th>5</th>\n",
       "      <td>6</td>\n",
       "      <td>3</td>\n",
       "      <td>19</td>\n",
       "    </tr>\n",
       "    <tr>\n",
       "      <th>6</th>\n",
       "      <td>7</td>\n",
       "      <td>4</td>\n",
       "      <td>8</td>\n",
       "    </tr>\n",
       "    <tr>\n",
       "      <th>7</th>\n",
       "      <td>8</td>\n",
       "      <td>0</td>\n",
       "      <td>6</td>\n",
       "    </tr>\n",
       "    <tr>\n",
       "      <th>8</th>\n",
       "      <td>11</td>\n",
       "      <td>0</td>\n",
       "      <td>7</td>\n",
       "    </tr>\n",
       "  </tbody>\n",
       "</table>\n",
       "</div>"
      ],
      "text/plain": [
       "   Family Size  Survived  Not Survived\n",
       "0            1       163           374\n",
       "1            2        89            72\n",
       "2            3        59            43\n",
       "3            4        21             8\n",
       "4            5         3            12\n",
       "5            6         3            19\n",
       "6            7         4             8\n",
       "7            8         0             6\n",
       "8           11         0             7"
      ]
     },
     "execution_count": 45,
     "metadata": {},
     "output_type": "execute_result"
    }
   ],
   "source": [
    "# merging important columns from both the data frame into new dataframe\n",
    "\n",
    "both_rate = pd.merge(survival_rate[['Family Size', 'Count of Survived']], death_rate[['Family Size', 'Count']], on='Family Size', how='right')\n",
    "\n",
    "both_rate['Count of Survived'].fillna(0, inplace=True) # replacing Nan values to 0\n",
    "\n",
    "both_rate.rename(columns={'Count of Survived': 'Survived',\n",
    "                          'Count': 'Not Survived'}, inplace=True) # Renaming it to meaningful name\n",
    "both_rate['Survived'] = both_rate['Survived'].astype(int) # converting float(worthless) to int for memory conservation\n",
    "both_rate"
   ]
  },
  {
   "cell_type": "code",
   "execution_count": 46,
   "id": "2877fa83-0a22-40e3-9aba-f7a43ce2564d",
   "metadata": {},
   "outputs": [
    {
     "data": {
      "image/png": "[encoded data removed]",
      "text/plain": [
       "<Figure size 640x480 with 1 Axes>"
      ]
     },
     "metadata": {},
     "output_type": "display_data"
    }
   ],
   "source": [
    "# Now ploting a bar plot of that merged data frame\n",
    "\n",
    "ax = sns.barplot(data=family_survival_counts, x='Family Size', y='Count', hue='Survived', edgecolor='black')\n",
    "\n",
    "plt.title('Death-Rate based on Family Members', fontsize=22)\n",
    "\n",
    "plt.ylabel('Count', fontsize=12)\n",
    "plt.xlabel('Family Size', fontsize=12)\n",
    "\n",
    "labels = ['Not-Survived', 'Survived']\n",
    "handles = ax.get_legend_handles_labels()[0]\n",
    "\n",
    "plt.legend(handles=handles, labels=labels, title='Survival Status')\n",
    "plt.savefig('Analysis Output/Death Rate Based on Family Members (Bar Plot).png', transparent=None, dpi=200, bbox_inches='tight')\n",
    "plt.show()"
   ]
  },
  {
   "cell_type": "code",
   "execution_count": null,
   "id": "5565b32d-9084-4f16-ad9b-fe207df9fc3b",
   "metadata": {},
   "outputs": [],
   "source": []
  }
 ],
 "metadata": {
  "kernelspec": {
   "display_name": "Python 3 (ipykernel)",
   "language": "python",
   "name": "python3"
  },
  "language_info": {
   "codemirror_mode": {
    "name": "ipython",
    "version": 3
   },
   "file_extension": ".py",
   "mimetype": "text/x-python",
   "name": "python",
   "nbconvert_exporter": "python",
   "pygments_lexer": "ipython3",
   "version": "3.12.3"
  }
 },
 "nbformat": 4,
 "nbformat_minor": 5
}
